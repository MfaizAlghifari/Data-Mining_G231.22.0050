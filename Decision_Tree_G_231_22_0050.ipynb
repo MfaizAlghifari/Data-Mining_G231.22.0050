{
  "nbformat": 4,
  "nbformat_minor": 0,
  "metadata": {
    "colab": {
      "provenance": []
    },
    "kernelspec": {
      "name": "python3",
      "display_name": "Python 3"
    },
    "language_info": {
      "name": "python"
    }
  },
  "cells": [
    {
      "cell_type": "code",
      "execution_count": 1,
      "metadata": {
        "id": "xCrxz_1n7Itd"
      },
      "outputs": [],
      "source": [
        "from matplotlib import pyplot as plt\n",
        "from sklearn import datasets\n",
        "from sklearn.tree import DecisionTreeClassifier"
      ]
    },
    {
      "cell_type": "code",
      "source": [
        "# prepare the data data\n",
        "iris = datasets.load_iris()\n",
        "x = iris.data\n",
        "y = iris.target"
      ],
      "metadata": {
        "id": "o0oZINDQ9Lpv"
      },
      "execution_count": 2,
      "outputs": []
    },
    {
      "cell_type": "code",
      "source": [
        "#fit the classifier with default hyper-parameters\n",
        "clf = DecisionTreeClassifier(random_state=1234)\n",
        "model = clf.fit(x, y)"
      ],
      "metadata": {
        "id": "JYwt-7dL92sM"
      },
      "execution_count": 3,
      "outputs": []
    },
    {
      "cell_type": "code",
      "source": [
        "text_representation = tree.export_text(clf)\n",
        "print(text_representation)\n",
        ""
      ],
      "metadata": {
        "id": "J3cOidBO-MTC"
      },
      "execution_count": null,
      "outputs": []
    },
    {
      "cell_type": "code",
      "source": [
        "with open(\"decistion_tree.log\", \"w\") as fout:\n",
        "  fout.write(text_representation)\n"
      ],
      "metadata": {
        "id": "ij5VQdS7-PP9"
      },
      "execution_count": null,
      "outputs": []
    },
    {
      "cell_type": "code",
      "source": [
        "fig = plt.figure(figsize=(25,20))\n",
        "_ = tree.plot_tree(clf,\n",
        "                   feature_names=iris.feature_names,\n",
        "                   class_names=iris.target_names,\n",
        "                   filled=True)"
      ],
      "metadata": {
        "id": "Tk2ZBsqY-Ua9"
      },
      "execution_count": null,
      "outputs": []
    },
    {
      "cell_type": "code",
      "source": [
        "fig.savefig(\"decition_tree_nim.png\")"
      ],
      "metadata": {
        "id": "NvQQOKCX-rZG"
      },
      "execution_count": null,
      "outputs": []
    },
    {
      "cell_type": "code",
      "source": [
        "import graphviz\n",
        "from sklearn.tree import export_graphviz\n",
        "#Dot data\n",
        "dot_data = export_graphviz(clf, out_file=None,\n",
        "                           feature_names=iris.feature_names,\n",
        "                           class_names=iris.target_names,\n",
        "                           filled=True, rounded=True,\n",
        "                           special_characters=True)\n",
        "#Draw graph\n",
        "graph = graphviz.Source(dot_data)\n",
        "graph.render(\"decision_tree\")\n",
        "graph\n",
        ""
      ],
      "metadata": {
        "id": "IedbYG4G-uSh"
      },
      "execution_count": null,
      "outputs": []
    }
  ]
}